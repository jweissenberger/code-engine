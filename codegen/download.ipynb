{
 "cells": [
  {
   "cell_type": "code",
   "execution_count": 4,
   "metadata": {},
   "outputs": [],
   "source": [
    "from transformers import AutoTokenizer, AutoModelForCausalLM"
   ]
  },
  {
   "cell_type": "code",
   "execution_count": 5,
   "metadata": {},
   "outputs": [],
   "source": [
    "tokenizer = AutoTokenizer.from_pretrained(\"350-mono-tokenizer\")"
   ]
  },
  {
   "cell_type": "code",
   "execution_count": 7,
   "metadata": {},
   "outputs": [
    {
     "name": "stderr",
     "output_type": "stream",
     "text": [
      "Some weights of the model checkpoint at 350-mono-model were not used when initializing CodeGenForCausalLM: ['transformer.h.16.attn.masked_bias', 'transformer.h.19.attn.bias', 'transformer.h.2.attn.bias', 'transformer.h.2.attn.masked_bias', 'transformer.h.1.attn.masked_bias', 'transformer.h.10.attn.masked_bias', 'transformer.h.0.attn.masked_bias', 'transformer.h.19.attn.masked_bias', 'transformer.h.9.attn.bias', 'transformer.h.6.attn.bias', 'transformer.h.12.attn.bias', 'transformer.h.13.attn.bias', 'transformer.h.18.attn.bias', 'transformer.h.14.attn.masked_bias', 'transformer.h.14.attn.bias', 'transformer.h.3.attn.bias', 'transformer.h.8.attn.bias', 'transformer.h.17.attn.masked_bias', 'transformer.h.5.attn.bias', 'transformer.h.4.attn.masked_bias', 'transformer.h.11.attn.masked_bias', 'transformer.h.12.attn.masked_bias', 'transformer.h.9.attn.masked_bias', 'transformer.h.7.attn.masked_bias', 'transformer.h.1.attn.bias', 'transformer.h.16.attn.bias', 'transformer.h.15.attn.bias', 'transformer.h.13.attn.masked_bias', 'transformer.h.15.attn.masked_bias', 'transformer.h.8.attn.masked_bias', 'transformer.h.6.attn.masked_bias', 'transformer.h.10.attn.bias', 'transformer.h.17.attn.bias', 'transformer.h.5.attn.masked_bias', 'transformer.h.11.attn.bias', 'transformer.h.3.attn.masked_bias', 'transformer.h.7.attn.bias', 'transformer.h.18.attn.masked_bias', 'transformer.h.4.attn.bias', 'transformer.h.0.attn.bias']\n",
      "- This IS expected if you are initializing CodeGenForCausalLM from the checkpoint of a model trained on another task or with another architecture (e.g. initializing a BertForSequenceClassification model from a BertForPreTraining model).\n",
      "- This IS NOT expected if you are initializing CodeGenForCausalLM from the checkpoint of a model that you expect to be exactly identical (initializing a BertForSequenceClassification model from a BertForSequenceClassification model).\n",
      "Some weights of CodeGenForCausalLM were not initialized from the model checkpoint at 350-mono-model and are newly initialized: ['transformer.h.8.attn.causal_mask', 'transformer.h.12.attn.causal_mask', 'transformer.h.18.attn.causal_mask', 'transformer.h.9.attn.causal_mask', 'transformer.h.7.attn.causal_mask', 'transformer.h.14.attn.causal_mask', 'transformer.h.19.attn.causal_mask', 'transformer.h.11.attn.causal_mask', 'transformer.h.15.attn.causal_mask', 'transformer.h.4.attn.causal_mask', 'transformer.h.6.attn.causal_mask', 'transformer.h.13.attn.causal_mask', 'transformer.h.2.attn.causal_mask', 'transformer.h.3.attn.causal_mask', 'transformer.h.10.attn.causal_mask', 'transformer.h.17.attn.causal_mask', 'transformer.h.5.attn.causal_mask', 'transformer.h.1.attn.causal_mask', 'transformer.h.16.attn.causal_mask', 'transformer.h.0.attn.causal_mask']\n",
      "You should probably TRAIN this model on a down-stream task to be able to use it for predictions and inference.\n"
     ]
    }
   ],
   "source": [
    "model = AutoModelForCausalLM.from_pretrained(\"350-mono-model\")"
   ]
  },
  {
   "cell_type": "code",
   "execution_count": 8,
   "metadata": {},
   "outputs": [
    {
     "name": "stderr",
     "output_type": "stream",
     "text": [
      "The attention mask and the pad token id were not set. As a consequence, you may observe unexpected behavior. Please pass your input's `attention_mask` to obtain reliable results.\n",
      "Setting `pad_token_id` to `eos_token_id`:2 for open-end generation.\n",
      "/Users/jackweissenberger/anaconda3/envs/spec-trans/lib/python3.8/site-packages/transformers/models/codegen/modeling_codegen.py:167: UserWarning: where received a uint8 condition tensor. This behavior is deprecated and will be removed in a future version of PyTorch. Use a boolean condition instead. (Triggered internally at  /Users/runner/work/pytorch/pytorch/pytorch/aten/src/ATen/native/TensorCompare.cpp:402.)\n",
      "  attn_weights = torch.where(causal_mask, attn_weights, mask_value)\n"
     ]
    },
    {
     "name": "stdout",
     "output_type": "stream",
     "text": [
      "def hello_world():\n",
      "    print(\"Hello World\")\n",
      "\n",
      "hello_world()\n",
      "\n",
      "#\n"
     ]
    }
   ],
   "source": [
    "text = \"def hello_world():\"\n",
    "input_ids = tokenizer(text, return_tensors=\"pt\").input_ids\n",
    "\n",
    "generated_ids = model.generate(input_ids, max_length=128)\n",
    "print(tokenizer.decode(generated_ids[0], skip_special_tokens=True))"
   ]
  },
  {
   "cell_type": "code",
   "execution_count": null,
   "metadata": {},
   "outputs": [],
   "source": []
  }
 ],
 "metadata": {
  "interpreter": {
   "hash": "0756cb1984a5d775694d19959f964754a80a56723f950d1db60de6831f27d71c"
  },
  "kernelspec": {
   "display_name": "Python 3.8.13 ('spec-trans')",
   "language": "python",
   "name": "python3"
  },
  "language_info": {
   "codemirror_mode": {
    "name": "ipython",
    "version": 3
   },
   "file_extension": ".py",
   "mimetype": "text/x-python",
   "name": "python",
   "nbconvert_exporter": "python",
   "pygments_lexer": "ipython3",
   "version": "3.8.13"
  },
  "orig_nbformat": 4
 },
 "nbformat": 4,
 "nbformat_minor": 2
}
