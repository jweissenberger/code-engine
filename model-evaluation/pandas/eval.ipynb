{
 "cells": [
  {
   "cell_type": "code",
   "execution_count": 3,
   "metadata": {},
   "outputs": [],
   "source": [
    "from data import data"
   ]
  },
  {
   "cell_type": "code",
   "execution_count": 2,
   "metadata": {},
   "outputs": [
    {
     "data": {
      "text/plain": [
       "[{'prompt': \"#dropt duplicates from column 'text' from the dataframe\",\n",
       "  'examples': [\"# To remove duplicates on specific column(s), use subset.\\ndf.drop_duplicates(subset=['brand'])\",\n",
       "   \"# To remove duplicates and keep last occurrences, use keep.\\ndf.drop_duplicates(subset=['brand', 'style'], keep='last')\"],\n",
       "  'answer': \"df.drop_duplicates(subset=['text'])\"},\n",
       " {'prompt': \"rows = [{'company': 'amazon', 'revenue': 100}, {'company': 'facebook', 'revenue': 200}]\\n# create a dataframe from list\",\n",
       "  'examples': [\"d = {'col1': [1, 2], 'col2': [3, 4]}\\ndf = pd.DataFrame(d)\",\n",
       "   \"data = [{'col1': 1, 'col2': 3}, {'col1': 2, 'col2': 4}]\\ndf = pd.DataFrame(data)\"],\n",
       "  'answer': 'df = pd.DataFrame(rows)'}]"
      ]
     },
     "execution_count": 2,
     "metadata": {},
     "output_type": "execute_result"
    }
   ],
   "source": [
    "data"
   ]
  },
  {
   "cell_type": "code",
   "execution_count": null,
   "metadata": {},
   "outputs": [],
   "source": []
  }
 ],
 "metadata": {
  "interpreter": {
   "hash": "00eb8093f170c342c464ce3c2b3e156a06d4906fbae28a587b903ec4fb1d586e"
  },
  "kernelspec": {
   "display_name": "Python 3.8.13 ('code-generation')",
   "language": "python",
   "name": "python3"
  },
  "language_info": {
   "codemirror_mode": {
    "name": "ipython",
    "version": 3
   },
   "file_extension": ".py",
   "mimetype": "text/x-python",
   "name": "python",
   "nbconvert_exporter": "python",
   "pygments_lexer": "ipython3",
   "version": "3.8.13"
  },
  "orig_nbformat": 4
 },
 "nbformat": 4,
 "nbformat_minor": 2
}
