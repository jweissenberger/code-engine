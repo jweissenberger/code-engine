{
 "cells": [
  {
   "cell_type": "code",
   "execution_count": 2,
   "metadata": {},
   "outputs": [],
   "source": [
    "import pandas as pd"
   ]
  },
  {
   "cell_type": "code",
   "execution_count": 4,
   "metadata": {},
   "outputs": [],
   "source": [
    "df = pd.read_csv('Code-gen-350.csv')"
   ]
  },
  {
   "cell_type": "code",
   "execution_count": 5,
   "metadata": {},
   "outputs": [
    {
     "data": {
      "text/html": [
       "<div>\n",
       "<style scoped>\n",
       "    .dataframe tbody tr th:only-of-type {\n",
       "        vertical-align: middle;\n",
       "    }\n",
       "\n",
       "    .dataframe tbody tr th {\n",
       "        vertical-align: top;\n",
       "    }\n",
       "\n",
       "    .dataframe thead th {\n",
       "        text-align: right;\n",
       "    }\n",
       "</style>\n",
       "<table border=\"1\" class=\"dataframe\">\n",
       "  <thead>\n",
       "    <tr style=\"text-align: right;\">\n",
       "      <th></th>\n",
       "      <th>question</th>\n",
       "      <th>attempt</th>\n",
       "      <th>passed</th>\n",
       "      <th>result</th>\n",
       "      <th>test_name</th>\n",
       "      <th>model_name</th>\n",
       "      <th>pulled_example</th>\n",
       "      <th>generated_code</th>\n",
       "    </tr>\n",
       "  </thead>\n",
       "  <tbody>\n",
       "    <tr>\n",
       "      <th>0</th>\n",
       "      <td>0</td>\n",
       "      <td>0</td>\n",
       "      <td>False</td>\n",
       "      <td>failed: Missing parentheses in call to 'print'...</td>\n",
       "      <td>Code-gen-350</td>\n",
       "      <td>codegen_350M</td>\n",
       "      <td>#theory\\n\\n#Actually due to the data limitatio...</td>\n",
       "      <td>#theory\\n\\n#Actually due to the data limitatio...</td>\n",
       "    </tr>\n",
       "    <tr>\n",
       "      <th>1</th>\n",
       "      <td>0</td>\n",
       "      <td>1</td>\n",
       "      <td>False</td>\n",
       "      <td>failed: invalid syntax (&lt;string&gt;, line 67)</td>\n",
       "      <td>Code-gen-350</td>\n",
       "      <td>codegen_350M</td>\n",
       "      <td>#I suspect the error you're getting means exac...</td>\n",
       "      <td>#I suspect the error you're getting means exac...</td>\n",
       "    </tr>\n",
       "    <tr>\n",
       "      <th>2</th>\n",
       "      <td>0</td>\n",
       "      <td>2</td>\n",
       "      <td>False</td>\n",
       "      <td>failed: Missing parentheses in call to 'print'...</td>\n",
       "      <td>Code-gen-350</td>\n",
       "      <td>codegen_350M</td>\n",
       "      <td>#theory\\n\\n#Actually due to the data limitatio...</td>\n",
       "      <td>#theory\\n\\n#Actually due to the data limitatio...</td>\n",
       "    </tr>\n",
       "    <tr>\n",
       "      <th>3</th>\n",
       "      <td>0</td>\n",
       "      <td>3</td>\n",
       "      <td>False</td>\n",
       "      <td>failed: invalid syntax (&lt;string&gt;, line 67)</td>\n",
       "      <td>Code-gen-350</td>\n",
       "      <td>codegen_350M</td>\n",
       "      <td>#I suspect the error you're getting means exac...</td>\n",
       "      <td>#I suspect the error you're getting means exac...</td>\n",
       "    </tr>\n",
       "    <tr>\n",
       "      <th>4</th>\n",
       "      <td>0</td>\n",
       "      <td>4</td>\n",
       "      <td>True</td>\n",
       "      <td>passed</td>\n",
       "      <td>Code-gen-350</td>\n",
       "      <td>codegen_350M</td>\n",
       "      <td>#A pair of points can only be 'near' each othe...</td>\n",
       "      <td>#A pair of points can only be 'near' each othe...</td>\n",
       "    </tr>\n",
       "  </tbody>\n",
       "</table>\n",
       "</div>"
      ],
      "text/plain": [
       "   question  attempt  passed  \\\n",
       "0         0        0   False   \n",
       "1         0        1   False   \n",
       "2         0        2   False   \n",
       "3         0        3   False   \n",
       "4         0        4    True   \n",
       "\n",
       "                                              result     test_name  \\\n",
       "0  failed: Missing parentheses in call to 'print'...  Code-gen-350   \n",
       "1         failed: invalid syntax (<string>, line 67)  Code-gen-350   \n",
       "2  failed: Missing parentheses in call to 'print'...  Code-gen-350   \n",
       "3         failed: invalid syntax (<string>, line 67)  Code-gen-350   \n",
       "4                                             passed  Code-gen-350   \n",
       "\n",
       "     model_name                                     pulled_example  \\\n",
       "0  codegen_350M  #theory\\n\\n#Actually due to the data limitatio...   \n",
       "1  codegen_350M  #I suspect the error you're getting means exac...   \n",
       "2  codegen_350M  #theory\\n\\n#Actually due to the data limitatio...   \n",
       "3  codegen_350M  #I suspect the error you're getting means exac...   \n",
       "4  codegen_350M  #A pair of points can only be 'near' each othe...   \n",
       "\n",
       "                                      generated_code  \n",
       "0  #theory\\n\\n#Actually due to the data limitatio...  \n",
       "1  #I suspect the error you're getting means exac...  \n",
       "2  #theory\\n\\n#Actually due to the data limitatio...  \n",
       "3  #I suspect the error you're getting means exac...  \n",
       "4  #A pair of points can only be 'near' each othe...  "
      ]
     },
     "execution_count": 5,
     "metadata": {},
     "output_type": "execute_result"
    }
   ],
   "source": [
    "df.head()"
   ]
  },
  {
   "cell_type": "code",
   "execution_count": 10,
   "metadata": {},
   "outputs": [
    {
     "name": "stdout",
     "output_type": "stream",
     "text": [
      "#A pair of points can only be 'near' each other if their distance in at least one dimension is less than the threshold. This can be exploited to reduce the number of candidate pairs by filtering one dimension after the other.  \n",
      "\n",
      "#I suggest:\n",
      "#- sort the points in one dimension (say: x)\n",
      "#- find all points which are close enough to the next point in the sorted list and put their index into a set of candidates\n",
      "#- do not use sqrt() but the quadratic distance (x1 - x2)**2 or even abs(x1 - x2) for efficiency\n",
      "#- do that for the second dimension as well\n",
      "#- determine the intersect of both sets, these are points near each other  \n",
      "\n",
      "#This way, you avoid costly is_near() calls, operate on way smaller sets, only work with unique points, and set lookups are very efficient.  \n",
      "\n",
      "#This scheme can easily be expanded to include more than 2 dimensions.\n"
     ]
    }
   ],
   "source": [
    "print(df.pulled_example.iloc[4])"
   ]
  },
  {
   "cell_type": "code",
   "execution_count": null,
   "metadata": {},
   "outputs": [],
   "source": []
  }
 ],
 "metadata": {
  "interpreter": {
   "hash": "0756cb1984a5d775694d19959f964754a80a56723f950d1db60de6831f27d71c"
  },
  "kernelspec": {
   "display_name": "Python 3.8.13 ('spec-trans')",
   "language": "python",
   "name": "python3"
  },
  "language_info": {
   "codemirror_mode": {
    "name": "ipython",
    "version": 3
   },
   "file_extension": ".py",
   "mimetype": "text/x-python",
   "name": "python",
   "nbconvert_exporter": "python",
   "pygments_lexer": "ipython3",
   "version": "3.8.13"
  },
  "orig_nbformat": 4
 },
 "nbformat": 4,
 "nbformat_minor": 2
}
