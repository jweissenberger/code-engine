{
 "cells": [
  {
   "cell_type": "code",
   "execution_count": 1,
   "metadata": {},
   "outputs": [],
   "source": [
    "from code_engine import CodeEngine"
   ]
  },
  {
   "cell_type": "code",
   "execution_count": 2,
   "metadata": {},
   "outputs": [],
   "source": [
    "ce = CodeEngine()"
   ]
  },
  {
   "cell_type": "code",
   "execution_count": 3,
   "metadata": {},
   "outputs": [
    {
     "name": "stdout",
     "output_type": "stream",
     "text": [
      "Generating Code\n",
      "Running Test Cases\n",
      "\n",
      "\n",
      "def solution(a: int, b: int) -> int:\n",
      "\t\"\"\"This function adds the two inputs together\"\"\"\n",
      "\tanswer = (a+b)%10\n",
      "\treturn answer\n",
      "\n",
      "\n",
      "{'passed': False, 'result': 'failed: '}\n",
      "Running Test Cases\n",
      "\n",
      "\n",
      "def solution(a: int, b: int) -> int:\n",
      "\t\"\"\"This function adds the two inputs together\"\"\"\n",
      "\tif a < 0 or b < 0:\n",
      "\t\traise ValueError(\"Both numbers cannot be negative\")\n",
      "\telif a == 0 or b == 0:\n",
      "\t\treturn 0\n",
      "\telse:\n",
      "\t\treturn a + b\n",
      "\n",
      "\n",
      "All test cases passed!\n"
     ]
    }
   ],
   "source": [
    "docstrings = \"This function adds the two inputs together\"\n",
    "test_case = {\"a\": 6, \"b\": 10, \"output\": 16}\n",
    "\n",
    "result = ce.generate_code(docstrings, test_cases=test_case)"
   ]
  },
  {
   "cell_type": "code",
   "execution_count": 4,
   "metadata": {},
   "outputs": [
    {
     "name": "stdout",
     "output_type": "stream",
     "text": [
      "def solution(a: int, b: int) -> int:\n",
      "\t\"\"\"This function adds the two inputs together\"\"\"\n",
      "\tif a < 0 or b < 0:\n",
      "\t\traise ValueError(\"Both numbers cannot be negative\")\n",
      "\telif a == 0 or b == 0:\n",
      "\t\treturn 0\n",
      "\telse:\n",
      "\t\treturn a + b\n"
     ]
    }
   ],
   "source": [
    "print(result)"
   ]
  },
  {
   "cell_type": "code",
   "execution_count": null,
   "metadata": {},
   "outputs": [],
   "source": []
  }
 ],
 "metadata": {
  "interpreter": {
   "hash": "00eb8093f170c342c464ce3c2b3e156a06d4906fbae28a587b903ec4fb1d586e"
  },
  "kernelspec": {
   "display_name": "Python 3.8.13 ('code-generation')",
   "language": "python",
   "name": "python3"
  },
  "language_info": {
   "codemirror_mode": {
    "name": "ipython",
    "version": 3
   },
   "file_extension": ".py",
   "mimetype": "text/x-python",
   "name": "python",
   "nbconvert_exporter": "python",
   "pygments_lexer": "ipython3",
   "version": "3.8.13"
  },
  "orig_nbformat": 4
 },
 "nbformat": 4,
 "nbformat_minor": 2
}
