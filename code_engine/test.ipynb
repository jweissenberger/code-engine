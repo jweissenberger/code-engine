{
 "cells": [
  {
   "cell_type": "code",
   "execution_count": 1,
   "metadata": {},
   "outputs": [],
   "source": [
    "from code_engine import CodeEngine"
   ]
  },
  {
   "cell_type": "code",
   "execution_count": 2,
   "metadata": {},
   "outputs": [],
   "source": [
    "ce = CodeEngine()"
   ]
  },
  {
   "cell_type": "code",
   "execution_count": 3,
   "metadata": {},
   "outputs": [
    {
     "name": "stdout",
     "output_type": "stream",
     "text": [
      "Generating Code\n",
      "Running Test Cases\n",
      "\n",
      "\n",
      "def solution(a: int, b: int) -> int:\n",
      "\t\"\"\"This function adds the two inputs together\"\"\"\n",
      "\tc = str(a) + str(b)\n",
      "\td = int(c, 2)\n",
      "\treturn d\n",
      "\n",
      "\n",
      "{'passed': False, 'result': \"failed: invalid literal for int() with base 2: '610'\"}\n",
      "Running Test Cases\n",
      "\n",
      "\n",
      "def solution(a: int, b: int) -> int:\n",
      "\t\"\"\"This function adds the two inputs together\"\"\"\n",
      "\tanswer = 0\n",
      "\t\n",
      "\t#\n",
      "\n",
      "\n",
      "{'passed': False, 'result': 'failed: '}\n",
      "Running Test Cases\n",
      "\n",
      "\n",
      "def solution(a: int, b: int) -> int:\n",
      "\t\"\"\"This function adds the two inputs together\"\"\"\n",
      "\tanswer = a + b\n",
      "\treturn answer\n",
      "\n",
      "\n",
      "All test cases passed!\n"
     ]
    }
   ],
   "source": [
    "docstrings = \"This function adds the two inputs together\"\n",
    "inputs = [\"a\", \"b\"]\n",
    "test_case = [{\"a\": 6, \"b\": 10, \"output\": 16}]\n",
    "\n",
    "result = ce.generate_code(docstrings, inputs, test_cases=test_case)"
   ]
  },
  {
   "cell_type": "code",
   "execution_count": null,
   "metadata": {},
   "outputs": [],
   "source": [
    "print(result)"
   ]
  },
  {
   "cell_type": "code",
   "execution_count": 5,
   "metadata": {},
   "outputs": [],
   "source": [
    "text = '''\n",
    "def solution(a: int, b: int) -> int:\n",
    "\t\"\"\"This function adds the two inputs together\"\"\"\n",
    "\treturn a + b\n",
    "\n",
    "def\n",
    "'''"
   ]
  },
  {
   "cell_type": "code",
   "execution_count": 6,
   "metadata": {},
   "outputs": [],
   "source": [
    "def clean_up_model_output(model_output, prompt):\n",
    "    model_output = model_output.replace(prompt, \"\")\n",
    "    splits = model_output.split('\\n')\n",
    "    for i in reversed(range(len(splits))):\n",
    "        if splits[i] == '' or len(splits[i]) == 0:\n",
    "            continue\n",
    "        if splits[i][0].isspace():\n",
    "            splits = splits[:i+1]\n",
    "            break\n",
    "    return '\\n'.join(splits)"
   ]
  },
  {
   "cell_type": "code",
   "execution_count": 8,
   "metadata": {},
   "outputs": [
    {
     "data": {
      "text/plain": [
       "'\\ndef solution(a: int, b: int) -> int:\\n\\t\"\"\"This function adds the two inputs together\"\"\"\\n\\treturn a + b'"
      ]
     },
     "execution_count": 8,
     "metadata": {},
     "output_type": "execute_result"
    }
   ],
   "source": [
    "clean_up_model_output(text, \"fake\")"
   ]
  },
  {
   "cell_type": "code",
   "execution_count": null,
   "metadata": {},
   "outputs": [],
   "source": []
  }
 ],
 "metadata": {
  "interpreter": {
   "hash": "00eb8093f170c342c464ce3c2b3e156a06d4906fbae28a587b903ec4fb1d586e"
  },
  "kernelspec": {
   "display_name": "Python 3.8.13 ('code-generation')",
   "language": "python",
   "name": "python3"
  },
  "language_info": {
   "codemirror_mode": {
    "name": "ipython",
    "version": 3
   },
   "file_extension": ".py",
   "mimetype": "text/x-python",
   "name": "python",
   "nbconvert_exporter": "python",
   "pygments_lexer": "ipython3",
   "version": "3.8.13"
  },
  "orig_nbformat": 4
 },
 "nbformat": 4,
 "nbformat_minor": 2
}
