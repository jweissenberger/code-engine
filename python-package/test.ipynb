{
 "cells": [
  {
   "cell_type": "code",
   "execution_count": 1,
   "metadata": {},
   "outputs": [],
   "source": [
    "from code_engine import CodeEngine"
   ]
  },
  {
   "cell_type": "code",
   "execution_count": 2,
   "metadata": {},
   "outputs": [],
   "source": [
    "ce = CodeEngine()"
   ]
  },
  {
   "cell_type": "code",
   "execution_count": 3,
   "metadata": {},
   "outputs": [
    {
     "name": "stdout",
     "output_type": "stream",
     "text": [
      "Finding Examples\n",
      "Generating Prompts\n",
      "<class 'int'>\n",
      "<class 'int'>\n",
      "<class 'int'>\n",
      "Generating Code\n",
      "Running Test Cases\n",
      "\n",
      "\n",
      "def solution(a: int, b: int) -> int:\n",
      "\t\"\"\"This function adds two elements together\"\"\"\n",
      "\treturn a + b\n",
      "\n",
      "\n",
      "All test cases passed!\n"
     ]
    }
   ],
   "source": [
    "docstrings = \"This function adds two elements together\"\n",
    "inputs = [\"a\", \"b\"]\n",
    "test_case = [{\"a\": 1, \"b\": 2, \"output\": 3}]\n",
    "\n",
    "result = ce.generate_code(docstrings, inputs, test_cases=test_case)"
   ]
  },
  {
   "cell_type": "code",
   "execution_count": 4,
   "metadata": {},
   "outputs": [
    {
     "name": "stdout",
     "output_type": "stream",
     "text": [
      "def solution(a: int, b: int) -> int:\n",
      "\t\"\"\"This function adds two elements together\"\"\"\n",
      "\treturn a + b\n",
      "\n",
      "print(solution(2, 3))\n",
      "print(solution.__doc__)\n",
      "print(solution.__annotations__)\n",
      "\n"
     ]
    }
   ],
   "source": [
    "print(result)"
   ]
  },
  {
   "cell_type": "code",
   "execution_count": 6,
   "metadata": {},
   "outputs": [],
   "source": [
    "import pandas as pd"
   ]
  },
  {
   "cell_type": "code",
   "execution_count": 18,
   "metadata": {},
   "outputs": [],
   "source": [
    "import numpy as np"
   ]
  },
  {
   "cell_type": "code",
   "execution_count": 25,
   "metadata": {},
   "outputs": [],
   "source": [
    "a = np.array([1,2,3])\n",
    "b = np.array([1,2,3])"
   ]
  },
  {
   "cell_type": "code",
   "execution_count": 27,
   "metadata": {},
   "outputs": [
    {
     "data": {
      "text/plain": [
       "True"
      ]
     },
     "execution_count": 27,
     "metadata": {},
     "output_type": "execute_result"
    }
   ],
   "source": [
    "np.array_equal(a, b)"
   ]
  },
  {
   "cell_type": "code",
   "execution_count": 22,
   "metadata": {},
   "outputs": [
    {
     "data": {
      "text/plain": [
       "True"
      ]
     },
     "execution_count": 22,
     "metadata": {},
     "output_type": "execute_result"
    }
   ],
   "source": [
    "type(a) == np.ndarray"
   ]
  },
  {
   "cell_type": "code",
   "execution_count": 17,
   "metadata": {},
   "outputs": [
    {
     "data": {
      "text/plain": [
       "'DataFrame'"
      ]
     },
     "execution_count": 17,
     "metadata": {},
     "output_type": "execute_result"
    }
   ],
   "source": [
    "type(test_input).__name__"
   ]
  },
  {
   "cell_type": "code",
   "execution_count": 24,
   "metadata": {},
   "outputs": [
    {
     "data": {
      "text/plain": [
       "'pandas'"
      ]
     },
     "execution_count": 24,
     "metadata": {},
     "output_type": "execute_result"
    }
   ],
   "source": [
    "str(type(test_input)).split(\"'\")[1].split('.')[0]"
   ]
  },
  {
   "cell_type": "code",
   "execution_count": 28,
   "metadata": {},
   "outputs": [],
   "source": [
    "import sys"
   ]
  },
  {
   "cell_type": "code",
   "execution_count": 30,
   "metadata": {},
   "outputs": [
    {
     "data": {
      "text/plain": [
       "\"<module 'pandas' from '/Users/jackweissenberger/anaconda3/envs/code-generation/lib/python3.8/site-packages/pandas/__init__.py'>\""
      ]
     },
     "execution_count": 30,
     "metadata": {},
     "output_type": "execute_result"
    }
   ],
   "source": [
    "str(sys.modules['pandas'])"
   ]
  },
  {
   "cell_type": "code",
   "execution_count": 17,
   "metadata": {},
   "outputs": [
    {
     "data": {
      "text/plain": [
       "\"<module 'pandas' from '/Users/jackweissenberger/anaconda3/envs/code-generation/lib/python3.8/site-packages/pandas/__init__.py'>\""
      ]
     },
     "execution_count": 17,
     "metadata": {},
     "output_type": "execute_result"
    }
   ],
   "source": [
    "str(globals()['pd'])"
   ]
  },
  {
   "cell_type": "code",
   "execution_count": 31,
   "metadata": {},
   "outputs": [
    {
     "data": {
      "text/plain": [
       "True"
      ]
     },
     "execution_count": 31,
     "metadata": {},
     "output_type": "execute_result"
    }
   ],
   "source": [
    "str(globals()['pd']) == str(sys.modules['pandas'])"
   ]
  },
  {
   "cell_type": "code",
   "execution_count": 48,
   "metadata": {},
   "outputs": [
    {
     "name": "stdout",
     "output_type": "stream",
     "text": [
      "<module 'pandas' from '/Users/jackweissenberger/anaconda3/envs/code-generation/lib/python3.8/site-packages/pandas/__init__.py'>\n",
      "pd\n",
      "<module 'pandas' from '/Users/jackweissenberger/anaconda3/envs/code-generation/lib/python3.8/site-packages/pandas/__init__.py'>\n",
      "_8\n",
      "<module 'pandas' from '/Users/jackweissenberger/anaconda3/envs/code-generation/lib/python3.8/site-packages/pandas/__init__.py'>\n",
      "_29\n",
      "<module 'pandas' from '/Users/jackweissenberger/anaconda3/envs/code-generation/lib/python3.8/site-packages/pandas/__init__.py'>\n",
      "_30\n"
     ]
    }
   ],
   "source": [
    "global_keys = globals().keys()\n",
    "for key in global_keys:\n",
    "    if str(globals()[key]) == str(sys.modules['pandas']):\n",
    "        print(globals()[key])\n",
    "        print(key)\n",
    "    "
   ]
  },
  {
   "cell_type": "code",
   "execution_count": 21,
   "metadata": {},
   "outputs": [
    {
     "data": {
      "text/plain": [
       "True"
      ]
     },
     "execution_count": 21,
     "metadata": {},
     "output_type": "execute_result"
    }
   ],
   "source": [
    "type(test_input) == spd.DataFrame"
   ]
  },
  {
   "cell_type": "code",
   "execution_count": 23,
   "metadata": {},
   "outputs": [
    {
     "data": {
      "text/plain": [
       "\"<class 'pandas.core.frame.DataFrame'>\""
      ]
     },
     "execution_count": 23,
     "metadata": {},
     "output_type": "execute_result"
    }
   ],
   "source": [
    "str(type(test_input))"
   ]
  },
  {
   "cell_type": "code",
   "execution_count": 22,
   "metadata": {},
   "outputs": [
    {
     "data": {
      "text/plain": [
       "\"<class 'pandas.core.frame.DataFrame'>\""
      ]
     },
     "execution_count": 22,
     "metadata": {},
     "output_type": "execute_result"
    }
   ],
   "source": [
    "str(pd.DataFrame)"
   ]
  },
  {
   "cell_type": "code",
   "execution_count": 20,
   "metadata": {},
   "outputs": [
    {
     "ename": "ValueError",
     "evalue": "The truth value of a DataFrame is ambiguous. Use a.empty, a.bool(), a.item(), a.any() or a.all().",
     "output_type": "error",
     "traceback": [
      "\u001b[0;31m---------------------------------------------------------------------------\u001b[0m",
      "\u001b[0;31mValueError\u001b[0m                                Traceback (most recent call last)",
      "\u001b[1;32m/Users/jackweissenberger/Documents/code-generation/python-package/test.ipynb Cell 11'\u001b[0m in \u001b[0;36m<cell line: 1>\u001b[0;34m()\u001b[0m\n\u001b[0;32m----> <a href='vscode-notebook-cell:/Users/jackweissenberger/Documents/code-generation/python-package/test.ipynb#ch0000022?line=0'>1</a>\u001b[0m \u001b[39mif\u001b[39;00m test_input \u001b[39m==\u001b[39m test_input:\n\u001b[1;32m      <a href='vscode-notebook-cell:/Users/jackweissenberger/Documents/code-generation/python-package/test.ipynb#ch0000022?line=1'>2</a>\u001b[0m     \u001b[39mprint\u001b[39m(\u001b[39m'\u001b[39m\u001b[39myes\u001b[39m\u001b[39m'\u001b[39m)\n",
      "File \u001b[0;32m~/anaconda3/envs/code-generation/lib/python3.8/site-packages/pandas/core/generic.py:1527\u001b[0m, in \u001b[0;36mNDFrame.__nonzero__\u001b[0;34m(self)\u001b[0m\n\u001b[1;32m   <a href='file:///Users/jackweissenberger/anaconda3/envs/code-generation/lib/python3.8/site-packages/pandas/core/generic.py?line=1524'>1525</a>\u001b[0m \u001b[39m@final\u001b[39m\n\u001b[1;32m   <a href='file:///Users/jackweissenberger/anaconda3/envs/code-generation/lib/python3.8/site-packages/pandas/core/generic.py?line=1525'>1526</a>\u001b[0m \u001b[39mdef\u001b[39;00m \u001b[39m__nonzero__\u001b[39m(\u001b[39mself\u001b[39m):\n\u001b[0;32m-> <a href='file:///Users/jackweissenberger/anaconda3/envs/code-generation/lib/python3.8/site-packages/pandas/core/generic.py?line=1526'>1527</a>\u001b[0m     \u001b[39mraise\u001b[39;00m \u001b[39mValueError\u001b[39;00m(\n\u001b[1;32m   <a href='file:///Users/jackweissenberger/anaconda3/envs/code-generation/lib/python3.8/site-packages/pandas/core/generic.py?line=1527'>1528</a>\u001b[0m         \u001b[39mf\u001b[39m\u001b[39m\"\u001b[39m\u001b[39mThe truth value of a \u001b[39m\u001b[39m{\u001b[39;00m\u001b[39mtype\u001b[39m(\u001b[39mself\u001b[39m)\u001b[39m.\u001b[39m\u001b[39m__name__\u001b[39m\u001b[39m}\u001b[39;00m\u001b[39m is ambiguous. \u001b[39m\u001b[39m\"\u001b[39m\n\u001b[1;32m   <a href='file:///Users/jackweissenberger/anaconda3/envs/code-generation/lib/python3.8/site-packages/pandas/core/generic.py?line=1528'>1529</a>\u001b[0m         \u001b[39m\"\u001b[39m\u001b[39mUse a.empty, a.bool(), a.item(), a.any() or a.all().\u001b[39m\u001b[39m\"\u001b[39m\n\u001b[1;32m   <a href='file:///Users/jackweissenberger/anaconda3/envs/code-generation/lib/python3.8/site-packages/pandas/core/generic.py?line=1529'>1530</a>\u001b[0m     )\n",
      "\u001b[0;31mValueError\u001b[0m: The truth value of a DataFrame is ambiguous. Use a.empty, a.bool(), a.item(), a.any() or a.all()."
     ]
    }
   ],
   "source": [
    "if test_input == test_input:\n",
    "    print('yes')"
   ]
  },
  {
   "cell_type": "code",
   "execution_count": 4,
   "metadata": {},
   "outputs": [],
   "source": [
    "import pandas as pd"
   ]
  },
  {
   "cell_type": "code",
   "execution_count": 5,
   "metadata": {},
   "outputs": [
    {
     "name": "stdout",
     "output_type": "stream",
     "text": [
      "Finding Examples\n",
      "Generating Prompts\n",
      "Generating Code\n",
      "Running Test Cases\n",
      "\n",
      "\n",
      "import pandas as pd\n",
      "\n",
      "def df_drop_duplicates(df):\n",
      "\t\"\"\"Drop duplicate rows from colum 'name'\"\"\"\n",
      "\treturn df.drop_duplicates(subset=['name']).reset_index(drop=True)\n",
      "\n",
      "\n",
      "\n",
      "All test cases passed!\n"
     ]
    }
   ],
   "source": [
    "docstrings = \"Drop duplicate rows from colum 'name'\"\n",
    "inputs = [\"df\"]\n",
    "test_input = pd.DataFrame({'name': ['jack', 'jack', 'will'], 'age': [24, 24, 25]})\n",
    "test_output = pd.DataFrame({'name': ['jack', 'will'], 'age': [24, 25]})\n",
    "test_case = [{\"df\": test_input, \"output\": test_output}]\n",
    "\n",
    "\n",
    "result = ce.generate_code(docstrings, inputs, test_cases=test_case, func_name=\"df_drop_duplicates\")"
   ]
  },
  {
   "cell_type": "code",
   "execution_count": 9,
   "metadata": {},
   "outputs": [
    {
     "name": "stdout",
     "output_type": "stream",
     "text": [
      "Finding Examples\n",
      "Generating Prompts\n",
      "Generating Code\n",
      "Running Test Cases\n",
      "\n",
      "\n",
      "import pandas as pd\n",
      "\n",
      "def solution(df):\n",
      "\t\"\"\"Given a data frame. I want to replace only the cells in column \"name\" where values are \"NA\" with the first 3 words from the corresponding row in column \"text\"\n",
      " Example Input:\n",
      "          Text   Name\n",
      "0     aa bb cc   Paul\n",
      "1  ee ff gg hh     NA\n",
      "2        xx yy     NA\n",
      "3     zz zz zz  Anton\n",
      "\n",
      "Output:\n",
      "          Text      Name\n",
      "0     aa bb cc      Paul\n",
      "1  ee ff gg hh  ee ff gg\n",
      "2        xx yy     xx yy\n",
      "3     zz zz zz     Anton\"\"\"\n",
      "\tnew_names = []\n",
      "\tfor i, row in df.iterrows():\n",
      "\t\tif row['Name'] == 'NA':\n",
      "\t\t\tnew_names.append(' '.join(row['Text'].split()[:3]))\n",
      "\t\telse:\n",
      "\t\t\tnew_names.append(row['Name'])\n",
      "\tdf['Name'] = new_names\n",
      "\n",
      "\treturn(df)\n",
      "\n",
      "\n",
      "\n",
      "All test cases passed!\n"
     ]
    }
   ],
   "source": [
    "test_input = pd.DataFrame({'Text': ['aa bb cc', 'ee ff gg hh', 'xx yy', 'zz zz zz'],\n",
    "                            'Name': [\"Paul\", 'NA', 'NA', \"Anton\"]})\n",
    "test_output = pd.DataFrame({'Text': ['aa bb cc', 'ee ff gg hh', 'xx yy', 'zz zz zz'],\n",
    "                            'Name': [\"Paul\", 'ee ff gg', 'xx yy', \"Anton\"]})\n",
    "\n",
    "test_case = {'df': test_input, 'output': test_output}\n",
    "inputs = [\"df\"]\n",
    "docstrings = 'Given a data frame. I want to replace only the cells in column \"name\" where values are \"NA\" with the first 3 words from the corresponding row in column \"text\"'\n",
    "docstrings += f\"\\n Example Input:\\n{test_input}\\n\\nOutput:\\n{test_output}\"\n",
    "result = ce.generate_code(docstrings, inputs, test_cases=test_case)\n"
   ]
  },
  {
   "cell_type": "code",
   "execution_count": 12,
   "metadata": {},
   "outputs": [],
   "source": [
    "def solution(df):\n",
    "\t\"\"\"Given a data frame. I want to replace only the cells in column \"name\" where values are \"NA\" with the first 3 words from the corresponding row in column \"text\"\n",
    " Example Input:\n",
    "          Text   Name\n",
    "0     aa bb cc   Paul\n",
    "1  ee ff gg hh     NA\n",
    "2        xx yy     NA\n",
    "3     zz zz zz  Anton\n",
    "\n",
    "Output:\n",
    "          Text      Name\n",
    "0     aa bb cc      Paul\n",
    "1  ee ff gg hh  ee ff gg\n",
    "2        xx yy     xx yy\n",
    "3     zz zz zz     Anton\"\"\"\n",
    "\tnew_names = []\n",
    "\tfor i, row in df.iterrows():\n",
    "\t\tif row['Name'] == 'NA':\n",
    "\t\t\tnew_names.append(' '.join(row['Text'].split()[:3]))\n",
    "\t\telse:\n",
    "\t\t\tnew_names.append(row['Name'])\n",
    "\tdf['Name'] = new_names\n",
    "\n",
    "\treturn(df)"
   ]
  },
  {
   "cell_type": "code",
   "execution_count": 13,
   "metadata": {},
   "outputs": [
    {
     "data": {
      "text/html": [
       "<div>\n",
       "<style scoped>\n",
       "    .dataframe tbody tr th:only-of-type {\n",
       "        vertical-align: middle;\n",
       "    }\n",
       "\n",
       "    .dataframe tbody tr th {\n",
       "        vertical-align: top;\n",
       "    }\n",
       "\n",
       "    .dataframe thead th {\n",
       "        text-align: right;\n",
       "    }\n",
       "</style>\n",
       "<table border=\"1\" class=\"dataframe\">\n",
       "  <thead>\n",
       "    <tr style=\"text-align: right;\">\n",
       "      <th></th>\n",
       "      <th>Text</th>\n",
       "      <th>Name</th>\n",
       "    </tr>\n",
       "  </thead>\n",
       "  <tbody>\n",
       "    <tr>\n",
       "      <th>0</th>\n",
       "      <td>aa bb cc</td>\n",
       "      <td>Paul</td>\n",
       "    </tr>\n",
       "    <tr>\n",
       "      <th>1</th>\n",
       "      <td>ee ff gg hh</td>\n",
       "      <td>ee ff gg</td>\n",
       "    </tr>\n",
       "    <tr>\n",
       "      <th>2</th>\n",
       "      <td>xx yy</td>\n",
       "      <td>xx yy</td>\n",
       "    </tr>\n",
       "    <tr>\n",
       "      <th>3</th>\n",
       "      <td>zz zz zz</td>\n",
       "      <td>Anton</td>\n",
       "    </tr>\n",
       "  </tbody>\n",
       "</table>\n",
       "</div>"
      ],
      "text/plain": [
       "          Text      Name\n",
       "0     aa bb cc      Paul\n",
       "1  ee ff gg hh  ee ff gg\n",
       "2        xx yy     xx yy\n",
       "3     zz zz zz     Anton"
      ]
     },
     "execution_count": 13,
     "metadata": {},
     "output_type": "execute_result"
    }
   ],
   "source": [
    "solution(test_input)"
   ]
  },
  {
   "cell_type": "code",
   "execution_count": 11,
   "metadata": {},
   "outputs": [
    {
     "name": "stdout",
     "output_type": "stream",
     "text": [
      "import pandas as pd\n",
      "\n",
      "def solution(df):\n",
      "\t\"\"\"Given a data frame. I want to replace only the cells in column \"name\" where values are \"NA\" with the first 3 words from the corresponding row in column \"text\"\n",
      " Example Input:\n",
      "          Text   Name\n",
      "0     aa bb cc   Paul\n",
      "1  ee ff gg hh     NA\n",
      "2        xx yy     NA\n",
      "3     zz zz zz  Anton\n",
      "\n",
      "Output:\n",
      "          Text      Name\n",
      "0     aa bb cc      Paul\n",
      "1  ee ff gg hh  ee ff gg\n",
      "2        xx yy     xx yy\n",
      "3     zz zz zz     Anton\"\"\"\n",
      "\tnew_names = []\n",
      "\tfor i, row in df.iterrows():\n",
      "\t\tif row['Name'] == 'NA':\n",
      "\t\t\tnew_names.append(' '.join(row['Text'].split()[:3]))\n",
      "\t\telse:\n",
      "\t\t\tnew_names.append(row['Name'])\n",
      "\tdf['Name'] = new_names\n",
      "\n",
      "\treturn(df)\n",
      "\n"
     ]
    }
   ],
   "source": [
    "print(result)"
   ]
  },
  {
   "cell_type": "code",
   "execution_count": 5,
   "metadata": {},
   "outputs": [],
   "source": [
    "import pandas as pd"
   ]
  },
  {
   "cell_type": "code",
   "execution_count": 22,
   "metadata": {},
   "outputs": [
    {
     "ename": "ValueError",
     "evalue": "DataFrame constructor not properly called!",
     "output_type": "error",
     "traceback": [
      "\u001b[0;31m---------------------------------------------------------------------------\u001b[0m",
      "\u001b[0;31mValueError\u001b[0m                                Traceback (most recent call last)",
      "\u001b[1;32m/Users/jackweissenberger/Documents/code-generation/python-package/test.ipynb Cell 24'\u001b[0m in \u001b[0;36m<cell line: 1>\u001b[0;34m()\u001b[0m\n\u001b[0;32m----> <a href='vscode-notebook-cell:/Users/jackweissenberger/Documents/code-generation/python-package/test.ipynb#ch0000027?line=0'>1</a>\u001b[0m pd\u001b[39m.\u001b[39;49mDataFrame(\u001b[39mstr\u001b[39;49m(test_input))\n",
      "File \u001b[0;32m~/anaconda3/envs/code-generation/lib/python3.8/site-packages/pandas/core/frame.py:756\u001b[0m, in \u001b[0;36mDataFrame.__init__\u001b[0;34m(self, data, index, columns, dtype, copy)\u001b[0m\n\u001b[1;32m    <a href='file:///Users/jackweissenberger/anaconda3/envs/code-generation/lib/python3.8/site-packages/pandas/core/frame.py?line=752'>753</a>\u001b[0m \u001b[39m# For data is scalar\u001b[39;00m\n\u001b[1;32m    <a href='file:///Users/jackweissenberger/anaconda3/envs/code-generation/lib/python3.8/site-packages/pandas/core/frame.py?line=753'>754</a>\u001b[0m \u001b[39melse\u001b[39;00m:\n\u001b[1;32m    <a href='file:///Users/jackweissenberger/anaconda3/envs/code-generation/lib/python3.8/site-packages/pandas/core/frame.py?line=754'>755</a>\u001b[0m     \u001b[39mif\u001b[39;00m index \u001b[39mis\u001b[39;00m \u001b[39mNone\u001b[39;00m \u001b[39mor\u001b[39;00m columns \u001b[39mis\u001b[39;00m \u001b[39mNone\u001b[39;00m:\n\u001b[0;32m--> <a href='file:///Users/jackweissenberger/anaconda3/envs/code-generation/lib/python3.8/site-packages/pandas/core/frame.py?line=755'>756</a>\u001b[0m         \u001b[39mraise\u001b[39;00m \u001b[39mValueError\u001b[39;00m(\u001b[39m\"\u001b[39m\u001b[39mDataFrame constructor not properly called!\u001b[39m\u001b[39m\"\u001b[39m)\n\u001b[1;32m    <a href='file:///Users/jackweissenberger/anaconda3/envs/code-generation/lib/python3.8/site-packages/pandas/core/frame.py?line=757'>758</a>\u001b[0m     \u001b[39m# Argument 1 to \"ensure_index\" has incompatible type \"Collection[Any]\";\u001b[39;00m\n\u001b[1;32m    <a href='file:///Users/jackweissenberger/anaconda3/envs/code-generation/lib/python3.8/site-packages/pandas/core/frame.py?line=758'>759</a>\u001b[0m     \u001b[39m# expected \"Union[Union[Union[ExtensionArray, ndarray],\u001b[39;00m\n\u001b[1;32m    <a href='file:///Users/jackweissenberger/anaconda3/envs/code-generation/lib/python3.8/site-packages/pandas/core/frame.py?line=759'>760</a>\u001b[0m     \u001b[39m# Index, Series], Sequence[Any]]\"\u001b[39;00m\n\u001b[1;32m    <a href='file:///Users/jackweissenberger/anaconda3/envs/code-generation/lib/python3.8/site-packages/pandas/core/frame.py?line=760'>761</a>\u001b[0m     index \u001b[39m=\u001b[39m ensure_index(index)  \u001b[39m# type: ignore[arg-type]\u001b[39;00m\n",
      "\u001b[0;31mValueError\u001b[0m: DataFrame constructor not properly called!"
     ]
    }
   ],
   "source": [
    "test_input"
   ]
  },
  {
   "cell_type": "code",
   "execution_count": 19,
   "metadata": {},
   "outputs": [
    {
     "data": {
      "text/plain": [
       "\"<class 'pandas.core.frame.DataFrame'>\""
      ]
     },
     "execution_count": 19,
     "metadata": {},
     "output_type": "execute_result"
    }
   ],
   "source": [
    "str(type(test_input))"
   ]
  },
  {
   "cell_type": "code",
   "execution_count": 7,
   "metadata": {},
   "outputs": [],
   "source": [
    "import numpy as np"
   ]
  },
  {
   "cell_type": "code",
   "execution_count": 18,
   "metadata": {},
   "outputs": [
    {
     "data": {
      "text/plain": [
       "'numpy'"
      ]
     },
     "execution_count": 18,
     "metadata": {},
     "output_type": "execute_result"
    }
   ],
   "source": [
    "str(type(np.ndarray((1,2)))b).split('.')[0].split(\"'\")[-1]"
   ]
  },
  {
   "cell_type": "code",
   "execution_count": 8,
   "metadata": {},
   "outputs": [
    {
     "data": {
      "text/plain": [
       "\"<class 'numpy.ndarray'>\""
      ]
     },
     "execution_count": 8,
     "metadata": {},
     "output_type": "execute_result"
    }
   ],
   "source": [
    "str(type(np.array([1, 2])))"
   ]
  },
  {
   "cell_type": "code",
   "execution_count": 25,
   "metadata": {},
   "outputs": [],
   "source": [
    "exec_globals = {\"brand_new_input\": test_input}\n",
    "check_program = \"assert brand_new_input.equals(brand_new_input)\"\n",
    "exec(check_program, exec_globals)"
   ]
  },
  {
   "cell_type": "code",
   "execution_count": null,
   "metadata": {},
   "outputs": [],
   "source": []
  }
 ],
 "metadata": {
  "interpreter": {
   "hash": "00eb8093f170c342c464ce3c2b3e156a06d4906fbae28a587b903ec4fb1d586e"
  },
  "kernelspec": {
   "display_name": "Python 3.8.13 ('code-generation')",
   "language": "python",
   "name": "python3"
  },
  "language_info": {
   "codemirror_mode": {
    "name": "ipython",
    "version": 3
   },
   "file_extension": ".py",
   "mimetype": "text/x-python",
   "name": "python",
   "nbconvert_exporter": "python",
   "pygments_lexer": "ipython3",
   "version": "3.8.13"
  },
  "orig_nbformat": 4
 },
 "nbformat": 4,
 "nbformat_minor": 2
}
